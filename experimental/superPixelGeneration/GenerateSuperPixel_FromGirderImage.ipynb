{
 "cells": [
  {
   "cell_type": "code",
   "execution_count": 1,
   "metadata": {
    "collapsed": true
   },
   "outputs": [],
   "source": [
    "import girder_client\n",
    "import os\n",
    "import cv2\n",
    "import json\n",
    "from IPython.display import Image\n",
    "import skimage.segmentation  ## from scikit-images\n",
    "import numpy as np\n",
    "import matplotlib.pyplot as plt\n",
    "from cStringIO import StringIO\n",
    "import numpy as np\n",
    "from PIL import Image as PILImage\n",
    "import PIL\n",
    "import image_processing_aug2016 as ip\n",
    "#from ScikitSegmentationHelper import ScikitSegmentationHelper\n",
    "import numpy"
   ]
  },
  {
   "cell_type": "code",
   "execution_count": 2,
   "metadata": {
    "collapsed": true
   },
   "outputs": [],
   "source": [
    "gc = girder_client.GirderClient(apiUrl=\"http://digitalslidearchive.emory.edu:8080/api/v1\")"
   ]
  },
  {
   "cell_type": "code",
   "execution_count": 3,
   "metadata": {
    "collapsed": true
   },
   "outputs": [],
   "source": [
    "TCGACohortList = gc.get('/tcga/cohort')\n",
    "cohortData = {}\n",
    "for x in TCGACohortList['data']:\n",
    "    cohortData[x['lowerName']] = { '_id': x['_id'], 'lowerName': x['lowerName']}"
   ]
  },
  {
   "cell_type": "code",
   "execution_count": 4,
   "metadata": {
    "collapsed": true
   },
   "outputs": [],
   "source": [
    "gbmImageSet = gc.get('/tcga/cohort/%s/images?limit=10' % cohortData['gbm']['_id'])\n",
    "sampleItemToGrab = gbmImageSet['data'][4]\n",
    "\n",
    "imgWidth = 1024\n",
    "curImageMacroUrl = '/item/%s/tiles/thumbnail?width=%s' % (sampleItemToGrab['_id'],imgWidth)\n",
    "curImage = gc.get(curImageMacroUrl, jsonResp=False)"
   ]
  },
  {
   "cell_type": "code",
   "execution_count": 5,
   "metadata": {
    "collapsed": true
   },
   "outputs": [],
   "source": [
    "def uint64ToRGB(val):\n",
    "    return numpy.dstack((\n",
    "        val.astype(numpy.uint8),\n",
    "        (val >> numpy.uint64(8)).astype(numpy.uint8),\n",
    "        (val >> numpy.uint64(16)).astype(numpy.uint8)\n",
    "    ))\n",
    "\n",
    "\n",
    "def superpixels(image):\n",
    "    superpixelLabels = _slic(image, numSegments=1000)\n",
    "    superpixels = uint64ToRGB(superpixelLabels)\n",
    "    return superpixels\n",
    "\n",
    "\n",
    "def _slic(image, numSegments=None, segmentSize=None):\n",
    "        compactness = 0.01  # make superpixels highly deformable\n",
    "        maxIter = 10\n",
    "        sigma = 2.0\n",
    "\n",
    "        if numSegments and segmentSize:\n",
    "            raise ValueError(\n",
    "                'Only one of numSegments or segmentSize may be set.')\n",
    "        elif numSegments:\n",
    "            pass\n",
    "        elif segmentSize:\n",
    "            numSegments = (image.shape[0] * image.shape[1]) / (segmentSize ** 2)\n",
    "        else:\n",
    "            raise ValueError('One of numSegments or segmentSize must be set.')\n",
    "\n",
    "        labelImage = skimage.segmentation.slic(\n",
    "            image,\n",
    "            n_segments=numSegments,\n",
    "            compactness=compactness,\n",
    "            max_iter=maxIter,\n",
    "            sigma=sigma,\n",
    "           enforce_connectivity=True,\n",
    "           min_size_factor=0.5,\n",
    "            slic_zero=True\n",
    "        )\n",
    "        return labelImage"
   ]
  },
  {
   "cell_type": "code",
   "execution_count": 6,
   "metadata": {
    "collapsed": true
   },
   "outputs": [],
   "source": [
    "RawImageToPIL =  PILImage.open(StringIO(curImage.content)) ### This is painful.. \n",
    "spxImage = superpixels(np.array(RawImageToPIL))"
   ]
  },
  {
   "cell_type": "code",
   "execution_count": 7,
   "metadata": {
    "collapsed": true
   },
   "outputs": [],
   "source": [
    "spxImage = PILImage.fromarray(spxImage)\n",
    "\n",
    "spxImage.save('sampleSuperPixelImage.png')\n",
    "\n"
   ]
  },
  {
   "cell_type": "code",
   "execution_count": 10,
   "metadata": {
    "collapsed": true
   },
   "outputs": [],
   "source": [
    "### Now we need to generate a JSONized version of the boudnaries\n",
    "import numpy as np, cv2, geojson\n",
    "### I have to switch coordinate systems, which is why I need to multiple by -1\n",
    "def contourToSVGString(contour):\n",
    "        \"\"\"\n",
    "        convert an OpenCV contour to a geojson-compatible representation\n",
    "        \"\"\"\n",
    "        t_string = []\n",
    "        for pt in contour:\n",
    "            px = np.round(pt[0] )\n",
    "            py =  np.round(pt[1] )  ## Appears Y is inverted/negative in the cntours\n",
    "            t_string.append((float(px), float(py)))\n",
    "        return t_string\n",
    "\n",
    "##@dview.parallel(block=False)  << This is if I want to use ipyparallel\n",
    "def TileMap_to_SVG( tileImg,useRawFile=False,debug=False ):\n",
    "    \"\"\"\n",
    "    This function takes an input image as a PNG File and produces a pointlist of the\n",
    "    outer most contour for each label map, and produces a format I can read in as SVG for visualization\"\"\"\n",
    "    # Load an color image in grayscale; currently not working with > 256 superpixels\n",
    "\n",
    "    if useRawFile:\n",
    "        img = cv2.imread(tileImg)\n",
    "    else:\n",
    "        img = tileImg ### I am not reading from the filesystem in this case, I'm passing the opened iflept\n",
    "    \n",
    "    img_ch0 = img[:,:,0]\n",
    "    img_ch1 = img[:,:,1]\n",
    "    img_ch2 = img[:,:,2]\n",
    "    \n",
    "    img_minor = img_ch2  ## Need to double check this\n",
    "    img_major = img_ch1   ## Also check this\n",
    "\n",
    "    img_gray = 256 * img_major.astype(np.int) + img_minor.astype(np.int) +1 ##Allows > 256 Channels\n",
    "    ### Probably should add a 1 to get rid of the 0th channel.. this is a TO DO\n",
    "    \n",
    "    unique_labels = np.unique(img_gray)\n",
    "    if debug: print len(unique_labels)\n",
    "    \n",
    "    all_cnts = []\n",
    "    cntdict = {}\n",
    "    return_data = []\n",
    "    ## So a given label/contour can contain one or more features...\n",
    "    \n",
    "    ## Now iterate through each label, mask the input image with the label, and find appropriate contours\n",
    "    for label in unique_labels:\n",
    "        working_img = img_gray.copy()\n",
    "        working_img[working_img != label] = 0\n",
    "        ### this breaks when label == 0\n",
    "        \n",
    "        ## can pass cv2.RETR_CCCOMP or RETR_EXTERNAL\n",
    "        _,contours, hierarchy = cv2.findContours(working_img.astype(np.uint8), cv2.RETR_EXTERNAL, cv2.CHAIN_APPROX_SIMPLE) ## can also do CHAIN_APPROX_TC89_L1\n",
    "        \n",
    "        if len(contours) > 0:\n",
    "            if debug: print \"Found %d contours for label %s\" % ( len(contours), label)\n",
    "            for c in contours:    \n",
    "                try:\n",
    "                    outerpoly = ip.contourToSVGString( np.squeeze( c ) )            \n",
    "                    all_cnts.append( { 'geometry': { 'type': 'polygon', 'coordinates': outerpoly }, 'properties' : { 'labelindex': str(label-1)    } } )\n",
    "                except:\n",
    "                    print \"SOMETHING WRONG IN THIS IMAGE CONTOUR... 2 few points??\",c\n",
    "        else:\n",
    "            if debug: print len(contours),\"were found for label\",label\n",
    "    for c in all_cnts:\n",
    "        return_data.append(c)\n",
    "\n",
    "        \n",
    "    superpixel_contours = return_data\n",
    "\n",
    "#    return superpixel_contours\n",
    "    \n",
    "    if useRawFile:\n",
    "        svg_output_file = tileImg+'.svg.json'   \n",
    "        print svg_output_file\n",
    "        if not os.path.isfile(svg_output_file):\n",
    "            with  open(svg_output_file,'w') as outfile:\n",
    "                json.dump(superpixel_contours, outfile)\n",
    "        return len(return_data)\n",
    "    else:\n",
    "        return superpixel_contours"
   ]
  },
  {
   "cell_type": "code",
   "execution_count": 11,
   "metadata": {},
   "outputs": [
    {
     "name": "stdout",
     "output_type": "stream",
     "text": [
      "sampleSuperPixelImage.png.svg.json\n"
     ]
    }
   ],
   "source": [
    "spxBoundaryFiles = TileMap_to_SVG('sampleSuperPixelImage.png',useRawFile=True)"
   ]
  },
  {
   "cell_type": "code",
   "execution_count": null,
   "metadata": {},
   "outputs": [],
   "source": []
  }
 ],
 "metadata": {
  "kernelspec": {
   "display_name": "Python 2",
   "language": "python",
   "name": "python2"
  },
  "language_info": {
   "codemirror_mode": {
    "name": "ipython",
    "version": 2
   },
   "file_extension": ".py",
   "mimetype": "text/x-python",
   "name": "python",
   "nbconvert_exporter": "python",
   "pygments_lexer": "ipython2",
   "version": "2.7.13"
  }
 },
 "nbformat": 4,
 "nbformat_minor": 2
}
