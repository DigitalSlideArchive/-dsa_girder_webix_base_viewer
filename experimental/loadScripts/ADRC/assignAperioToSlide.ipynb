{
 "cells": [
  {
   "cell_type": "code",
   "execution_count": null,
   "metadata": {
    "collapsed": true
   },
   "outputs": [],
   "source": [
    "# Attach Aperio XML file to a slide\n",
    "# This script takes Aperio folder ID loaded into Girder and recursively\n",
    "# assigns Aperio file to a slide. Assming you have the Aperio files in Girder\n",
    "# you only need to modify two variables to make this script work:\n",
    "# BASE_URL and APERIO_FOLDER_ID"
   ]
  },
  {
   "cell_type": "code",
   "execution_count": 1,
   "metadata": {
    "collapsed": false
   },
   "outputs": [],
   "source": [
    "import json\n",
    "import girder_client\n",
    "import collections\n",
    "import sys\n",
    "sys.path.append(\"../utils\")\n",
    "from girder_utils import *"
   ]
  },
  {
   "cell_type": "code",
   "execution_count": null,
   "metadata": {
    "collapsed": true
   },
   "outputs": [],
   "source": [
    "#URL to the API\n",
    "BASE_URL = 'http://digitalslidearchive.emory.edu:8080/api/v1'\n",
    "#Folder ID containing Aperio XML files\n",
    "APERIO_FOLDER_ID = '5995046392ca9a000df9dc9c'\n",
    "\n",
    "#Collection ID containing the slides\n",
    "CURATED_FOLDER_ID = '597faf8392ca9a000d8477d1'\n",
    "\n"
   ]
  },
  {
   "cell_type": "code",
   "execution_count": null,
   "metadata": {
    "collapsed": false
   },
   "outputs": [],
   "source": [
    "gc = girder_client.GirderClient(apiUrl=BASE_URL)\n",
    "gc.authenticate(interactive=True)"
   ]
  },
  {
   "cell_type": "code",
   "execution_count": null,
   "metadata": {
    "collapsed": false
   },
   "outputs": [],
   "source": [
    "#Get list fo folders\n",
    "folders = recurseGetResource(gc, CURATED_FOLDER_ID, 'folder', 'folder')\n",
    "\n",
    "#For each folder recurse and get all items\n",
    "for folder in folders:\n",
    "    items = recurseGetItems(gc, folder[\"_id\"])\n",
    "    print folder['name']\n",
    "    for item in items:\n",
    "        XML_File = item['name'].replace('.ndpi','.xml')\n",
    "        if XML_File in XML_FileDict:\n",
    "            #print item['name'], XML_FileDict[XML_File]\n",
    "            path = \"item/\" + item[\"_id\"] + \"/aperio\"\n",
    "            gc.post(path, {\"imageId\": XML_FileDict[XML_File][\"_id\"]})\n",
    "            \n",
    "#         params = {\"q\": item[\"name\"].replace(\"ndpi\", \"xml\"), \"mode\": \"prefix\", \"types\": '[\"item\"]'}\n",
    "#         resp = gc.get(\"resource/search\", parameters=params)\n",
    "        \n",
    "#         if len(resp[\"item\"]) and \"_id\" in resp[\"item\"][0]:\n",
    "#             print resp[\"item\"][0][\"_id\"]\n"
   ]
  },
  {
   "cell_type": "code",
   "execution_count": null,
   "metadata": {
    "collapsed": false
   },
   "outputs": [],
   "source": [
    "print [(x['name'],x['_id']) for x in folders]"
   ]
  },
  {
   "cell_type": "code",
   "execution_count": null,
   "metadata": {
    "collapsed": false
   },
   "outputs": [],
   "source": [
    "items = recurseGetItems(gc, '599cef1192ca9a000d237311')\n",
    "print list(items)"
   ]
  },
  {
   "cell_type": "code",
   "execution_count": null,
   "metadata": {
    "collapsed": false
   },
   "outputs": [],
   "source": []
  },
  {
   "cell_type": "code",
   "execution_count": null,
   "metadata": {
    "collapsed": false
   },
   "outputs": [],
   "source": [
    "XML_FileList = gc.get('item?folderId=5995046392ca9a000df9dc9c&limit=1500&sort=lowerName&sortdir=1')"
   ]
  },
  {
   "cell_type": "code",
   "execution_count": null,
   "metadata": {
    "collapsed": false
   },
   "outputs": [],
   "source": [
    "XML_FileDict = {}\n",
    "for x in XML_FileList:\n",
    "    if x['name'] not in XML_FileDict:\n",
    "        XML_FileDict[x['name']] = x\n",
    "    else:\n",
    "        print x,\"was a dup?\"\n"
   ]
  },
  {
   "cell_type": "code",
   "execution_count": null,
   "metadata": {
    "collapsed": false
   },
   "outputs": [],
   "source": []
  }
 ],
 "metadata": {
  "kernelspec": {
   "display_name": "Python 2",
   "language": "python",
   "name": "python2"
  },
  "language_info": {
   "codemirror_mode": {
    "name": "ipython",
    "version": 2
   },
   "file_extension": ".py",
   "mimetype": "text/x-python",
   "name": "python",
   "nbconvert_exporter": "python",
   "pygments_lexer": "ipython2",
   "version": "2.7.13"
  }
 },
 "nbformat": 4,
 "nbformat_minor": 0
}
