{
 "cells": [
  {
   "cell_type": "code",
   "execution_count": 1,
   "metadata": {
    "collapsed": true
   },
   "outputs": [],
   "source": [
    "# Attach Aperio XML file to a slide\n",
    "# This script takes Aperio folder ID loaded into Girder and recursively\n",
    "# assigns Aperio file to a slide. Assming you have the Aperio files in Girder\n",
    "# you only need to modify two variables to make this script work:\n",
    "# BASE_URL and APERIO_FOLDER_ID"
   ]
  },
  {
   "cell_type": "code",
   "execution_count": 2,
   "metadata": {
    "collapsed": true
   },
   "outputs": [],
   "source": [
    "#URL to the API\n",
    "BASE_URL = 'http://candygram.neurology.emory.edu:8080/api/v1'\n",
    "\n",
    "#Collection ID containing the slides\n",
    "COLLECTION_ID = '589022ce92ca9a0010e92bed'\n",
    "\n",
    "#Folder ID containing Aperio XML files\n",
    "APERIO_FOLDER_ID = '5893a33e92ca9a0010068f84'"
   ]
  },
  {
   "cell_type": "code",
   "execution_count": 24,
   "metadata": {
    "collapsed": false
   },
   "outputs": [],
   "source": [
    "import json\n",
    "import girder_client\n",
    "import collections\n",
    "import sys\n",
    "sys.path.append(\"../utils\")\n",
    "from girder_utils import *"
   ]
  },
  {
   "cell_type": "code",
   "execution_count": 4,
   "metadata": {
    "collapsed": false
   },
   "outputs": [
    {
     "name": "stdout",
     "output_type": "stream",
     "text": [
      "Login or email: admin\n",
      "Password for admin: ········\n"
     ]
    }
   ],
   "source": [
    "gc = girder_client.GirderClient(apiUrl=BASE_URL)\n",
    "gc.authenticate(interactive=True)"
   ]
  },
  {
   "cell_type": "code",
   "execution_count": 11,
   "metadata": {
    "collapsed": false
   },
   "outputs": [],
   "source": [
    "#Get list fo folders\n",
    "folders = recurseGetResource(gc, COLLECTION_ID, 'folder', 'collection')\n",
    "\n",
    "#For each folder recurse and get all items\n",
    "for folder in folders:\n",
    "    items = recurseGetItems(gc, folder[\"_id\"])\n",
    "\n",
    "    for item in items:\n",
    "        params = {\"q\": item[\"name\"].replace(\"ndpi\", \"xml\"), \"mode\": \"prefix\", \"types\": '[\"item\"]'}\n",
    "        resp = gc.get(\"resource/search\", parameters=params)\n",
    "        \n",
    "        if len(resp[\"item\"]) and \"_id\" in resp[\"item\"][0]:\n",
    "            path = \"item/\" + resp[\"item\"][0][\"_id\"] + \"/aperio\"\n",
    "            gc.post(path, {\"imageId\": item[\"_id\"]})"
   ]
  },
  {
   "cell_type": "code",
   "execution_count": null,
   "metadata": {
    "collapsed": true
   },
   "outputs": [],
   "source": []
  }
 ],
 "metadata": {
  "kernelspec": {
   "display_name": "Python 2",
   "language": "python",
   "name": "python2"
  },
  "language_info": {
   "codemirror_mode": {
    "name": "ipython",
    "version": 2
   },
   "file_extension": ".py",
   "mimetype": "text/x-python",
   "name": "python",
   "nbconvert_exporter": "python",
   "pygments_lexer": "ipython2",
   "version": "2.7.12"
  }
 },
 "nbformat": 4,
 "nbformat_minor": 0
}
