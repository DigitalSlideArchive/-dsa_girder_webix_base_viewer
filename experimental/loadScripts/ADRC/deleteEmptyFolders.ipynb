{
 "cells": [
  {
   "cell_type": "code",
   "execution_count": 1,
   "metadata": {
    "collapsed": false
   },
   "outputs": [],
   "source": [
    "import girder_client\n",
    "from utils import recurseGetResource"
   ]
  },
  {
   "cell_type": "code",
   "execution_count": null,
   "metadata": {
    "collapsed": true
   },
   "outputs": [],
   "source": [
    "firstFolderToReorg = '596e7cdd92ca9a000bc777ed'"
   ]
  },
  {
   "cell_type": "code",
   "execution_count": 2,
   "metadata": {
    "collapsed": true
   },
   "outputs": [],
   "source": [
    "API_URL = \"digitalslidearchive.emory.edu\"\n",
    "API_PORT = 8080\n",
    "FOLDER_ID = \"596e3b1492ca9a000b2af2b4\""
   ]
  },
  {
   "cell_type": "code",
   "execution_count": 3,
   "metadata": {
    "collapsed": false
   },
   "outputs": [
    {
     "name": "stdout",
     "output_type": "stream",
     "text": [
      "Login or email: admin\n",
      "Password for admin: ········\n"
     ]
    }
   ],
   "source": [
    "gc = girder_client.GirderClient(API_URL, API_PORT)\n",
    "gc.authenticate(interactive=True)"
   ]
  },
  {
   "cell_type": "code",
   "execution_count": 7,
   "metadata": {
    "collapsed": false
   },
   "outputs": [],
   "source": [
    "patientFolders = recurseGetResource(gc, FOLDER_ID, \"folder\", parentType='folder')\n",
    "\n",
    "for patientFolder in patientFolders:\n",
    "    stainFolders = recurseGetResource(gc, patientFolder[\"_id\"], \"folder\", parentType='folder')\n",
    "    \n",
    "    for stainFolder in stainFolders:\n",
    "        items = list(gc.listItem(stainFolder[\"_id\"]))\n",
    "        if len(items) == 0:\n",
    "            gc.delete(\"folder/\" + stainFolder[\"_id\"])"
   ]
  },
  {
   "cell_type": "code",
   "execution_count": null,
   "metadata": {
    "collapsed": true
   },
   "outputs": [],
   "source": []
  }
 ],
 "metadata": {
  "kernelspec": {
   "display_name": "Python 2",
   "language": "python",
   "name": "python2"
  },
  "language_info": {
   "codemirror_mode": {
    "name": "ipython",
    "version": 2
   },
   "file_extension": ".py",
   "mimetype": "text/x-python",
   "name": "python",
   "nbconvert_exporter": "python",
   "pygments_lexer": "ipython2",
   "version": "2.7.12"
  }
 },
 "nbformat": 4,
 "nbformat_minor": 0
}
