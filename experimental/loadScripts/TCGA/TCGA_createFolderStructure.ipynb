{
 "cells": [
  {
   "cell_type": "markdown",
   "metadata": {},
   "source": [
    "# This script will attempt to reorganize the data I loaded into Girder in \"batch\" mode for the candygram test site\n"
   ]
  },
  {
   "cell_type": "code",
   "execution_count": null,
   "metadata": {
    "collapsed": true
   },
   "outputs": [],
   "source": [
    "### I used the admin tool to BATCH import the entire TCGA collection which was basically ALL\n",
    "## of the TCGA images for a given tumor type in a single folder\n",
    "## I want to reorganize this so each set of images for a patient lives in its own folder\n",
    "## to make things a bit cleaner/better organized"
   ]
  },
  {
   "cell_type": "code",
   "execution_count": 4,
   "metadata": {
    "collapsed": false
   },
   "outputs": [],
   "source": [
    "import json\n",
    "import girder_client\n",
    "import collections\n",
    "from utils import *\n",
    "\n",
    "BASE_URL = 'http://candygram.neurology.emory.edu:8080/api/v1'\n",
    "COLLECTION_NAME = 'TCGA'  ## Needs to match ur TCGA collection ID"
   ]
  },
  {
   "cell_type": "code",
   "execution_count": 5,
   "metadata": {
    "collapsed": false
   },
   "outputs": [
    {
     "name": "stdout",
     "output_type": "stream",
     "text": [
      "Login or email: admin\n",
      "Password for admin: ········\n"
     ]
    }
   ],
   "source": [
    "gc = girder_client.GirderClient(apiUrl=BASE_URL)\n",
    "gc.authenticate(interactive=True)"
   ]
  },
  {
   "cell_type": "code",
   "execution_count": 6,
   "metadata": {
    "collapsed": false
   },
   "outputs": [],
   "source": [
    "##Going to get my collection by ID so I can interact with it\n",
    "requestUrl = 'resource/lookup?path=collection/%s' % COLLECTION_NAME\n",
    "collectionData = gc.getResource(requestUrl)\n",
    "collectionId = collectionData['_id']"
   ]
  },
  {
   "cell_type": "code",
   "execution_count": 11,
   "metadata": {
    "collapsed": false
   },
   "outputs": [
    {
     "name": "stdout",
     "output_type": "stream",
     "text": [
      "cleaning up folder acc\n",
      "cleaning up folder blca\n",
      "cleaning up folder brca\n",
      "cleaning up folder cesc\n",
      "cleaning up folder chol\n",
      "cleaning up folder coad\n",
      "cleaning up folder dlbc\n",
      "cleaning up folder esca\n",
      "cleaning up folder gbm\n",
      "cleaning up folder hnsc\n",
      "cleaning up folder kich\n",
      "cleaning up folder kirc\n",
      "cleaning up folder kirp\n",
      "cleaning up folder lgg\n",
      "cleaning up folder lihc\n",
      "cleaning up folder luad\n",
      "cleaning up folder lusc\n",
      "cleaning up folder meso\n",
      "cleaning up folder ov\n",
      "cleaning up folder paad\n",
      "cleaning up folder pcpg\n",
      "cleaning up folder prad\n",
      "cleaning up folder read\n",
      "cleaning up folder Sample Images\n",
      "cleaning up folder sarc\n",
      "cleaning up folder skcm\n",
      "cleaning up folder stad\n",
      "cleaning up folder tgct\n",
      "cleaning up folder thca\n",
      "cleaning up folder thym\n",
      "cleaning up folder ucec\n",
      "cleaning up folder ucs\n",
      "cleaning up folder uvm\n"
     ]
    }
   ],
   "source": [
    "#First, for every cohort (main folder) do the following\n",
    "#  1. Get list of items and subfolders\n",
    "#  2. Map folder name to folder ID\n",
    "#  3. Delete any item with filename starting with .TCGA\n",
    "#  4. Create a folder for each patient, of the folder does not exist\n",
    "folders = recurseGetResource(gc, collectionId, 'folder', 'collection')\n",
    "\n",
    "for folder in folders:\n",
    "    print \"cleaning up folder \" + folder[\"name\"]\n",
    "    offset = -1\n",
    "    folderId = folder[\"_id\"]\n",
    "    \n",
    "    while True:\n",
    "        items = list(gc.listItem(folderId, limit=500, offset=offset + 1))\n",
    "        for item in items:\n",
    "            name = item[\"name\"]\n",
    "        \n",
    "            if name.startswith('TCGA-'):\n",
    "                patientFolderName = name[0:12]\n",
    "                slideFolderName = name.split(\".\",1)[0]\n",
    "            \n",
    "                try:\n",
    "                    patientFolder = gc.createFolder(folderId, patientFolderName, parentType='folder')\n",
    "                except:\n",
    "                    requestUrl = 'resource/search?q=%s&mode=prefix&types=%%5B%%22folder%%22%%5D&level=0&limit=10&offset=0' % patientFolderName\n",
    "                    patientFolder = gc.getResource(requestUrl)[\"folder\"][0]\n",
    "                    pass\n",
    "\n",
    "                try:\n",
    "                    gc.createFolder(patientFolder[\"_id\"], slideFolderName)\n",
    "                    print \"Creating slide folder \" + folderName\n",
    "                except:\n",
    "                    pass\n",
    "                \n",
    "        if len(items) < 500: break\n",
    "        offset += 500"
   ]
  },
  {
   "cell_type": "code",
   "execution_count": null,
   "metadata": {
    "collapsed": true
   },
   "outputs": [],
   "source": []
  }
 ],
 "metadata": {
  "kernelspec": {
   "display_name": "Python 2",
   "language": "python",
   "name": "python2"
  },
  "language_info": {
   "codemirror_mode": {
    "name": "ipython",
    "version": 2
   },
   "file_extension": ".py",
   "mimetype": "text/x-python",
   "name": "python",
   "nbconvert_exporter": "python",
   "pygments_lexer": "ipython2",
   "version": "2.7.12"
  }
 },
 "nbformat": 4,
 "nbformat_minor": 0
}
