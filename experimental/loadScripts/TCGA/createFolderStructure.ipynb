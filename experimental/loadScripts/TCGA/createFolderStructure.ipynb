{
 "cells": [
  {
   "cell_type": "code",
   "execution_count": 1,
   "metadata": {
    "collapsed": true
   },
   "outputs": [],
   "source": [
    "# Create the proper folder structure for the TCGA dataset. This script assumes the following:\n",
    "#  TCGA slides are loaded into a collection\n",
    "#  Under the collection are the cohorts folders (ACC, LGG, GBM, etc.)\n",
    "#  Under each cohort are the list of slides\n",
    "\n",
    "# The create folder structure will be as follows:\n",
    "# collection -> cohorts -> cases (patient folders) -> slide folders"
   ]
  },
  {
   "cell_type": "code",
   "execution_count": 2,
   "metadata": {
    "collapsed": true
   },
   "outputs": [],
   "source": [
    "#URL to the API\n",
    "BASE_URL = 'http://candygram.neurology.emory.edu:8080/api/v1'\n",
    "\n",
    "#TCGA collection name\n",
    "COLLECTION_NAME = 'TCGA'"
   ]
  },
  {
   "cell_type": "code",
   "execution_count": 3,
   "metadata": {
    "collapsed": false
   },
   "outputs": [],
   "source": [
    "import json\n",
    "import girder_client\n",
    "import collections\n",
    "from utils import *"
   ]
  },
  {
   "cell_type": "code",
   "execution_count": 4,
   "metadata": {
    "collapsed": false
   },
   "outputs": [],
   "source": [
    "gc = girder_client.GirderClient(apiUrl=BASE_URL)\n",
    "gc.authenticate(interactive=True)"
   ]
  },
  {
   "cell_type": "code",
   "execution_count": 4,
   "metadata": {
    "collapsed": false
   },
   "outputs": [
    {
     "ename": "NameError",
     "evalue": "name 'gc' is not defined",
     "output_type": "error",
     "traceback": [
      "\u001b[0;31m---------------------------------------------------------------------------\u001b[0m",
      "\u001b[0;31mNameError\u001b[0m                                 Traceback (most recent call last)",
      "\u001b[0;32m<ipython-input-4-8aff511a9ace>\u001b[0m in \u001b[0;36m<module>\u001b[0;34m()\u001b[0m\n\u001b[1;32m      1\u001b[0m \u001b[0;31m##Going to get my collection by ID so I can interact with it\u001b[0m\u001b[0;34m\u001b[0m\u001b[0;34m\u001b[0m\u001b[0m\n\u001b[1;32m      2\u001b[0m \u001b[0mrequestUrl\u001b[0m \u001b[0;34m=\u001b[0m \u001b[0;34m'resource/lookup?path=collection/%s'\u001b[0m \u001b[0;34m%\u001b[0m \u001b[0mCOLLECTION_NAME\u001b[0m\u001b[0;34m\u001b[0m\u001b[0m\n\u001b[0;32m----> 3\u001b[0;31m \u001b[0mcollectionData\u001b[0m \u001b[0;34m=\u001b[0m \u001b[0mgc\u001b[0m\u001b[0;34m.\u001b[0m\u001b[0mgetResource\u001b[0m\u001b[0;34m(\u001b[0m\u001b[0mrequestUrl\u001b[0m\u001b[0;34m)\u001b[0m\u001b[0;34m\u001b[0m\u001b[0m\n\u001b[0m\u001b[1;32m      4\u001b[0m \u001b[0mcollectionId\u001b[0m \u001b[0;34m=\u001b[0m \u001b[0mcollectionData\u001b[0m\u001b[0;34m[\u001b[0m\u001b[0;34m'_id'\u001b[0m\u001b[0;34m]\u001b[0m\u001b[0;34m\u001b[0m\u001b[0m\n",
      "\u001b[0;31mNameError\u001b[0m: name 'gc' is not defined"
     ]
    }
   ],
   "source": [
    "##Going to get my collection by ID so I can interact with it\n",
    "requestUrl = 'resource/lookup?path=collection/%s' % COLLECTION_NAME\n",
    "collectionData = gc.getResource(requestUrl)\n",
    "collectionId = collectionData['_id']"
   ]
  },
  {
   "cell_type": "code",
   "execution_count": 10,
   "metadata": {
    "collapsed": false
   },
   "outputs": [
    {
     "name": "stdout",
     "output_type": "stream",
     "text": [
      "cleaning up folder acc\n",
      "cleaning up folder blca\n",
      "cleaning up folder brca\n",
      "cleaning up folder cesc\n",
      "cleaning up folder chol\n",
      "cleaning up folder coad\n",
      "cleaning up folder dlbc\n",
      "cleaning up folder esca\n",
      "cleaning up folder gbm\n",
      "cleaning up folder hnsc\n",
      "cleaning up folder kich\n",
      "cleaning up folder kirc\n",
      "cleaning up folder kirp\n",
      "cleaning up folder lgg\n",
      "cleaning up folder lihc\n",
      "cleaning up folder luad\n",
      "cleaning up folder lusc\n",
      "cleaning up folder meso\n",
      "cleaning up folder ov\n",
      "cleaning up folder paad\n",
      "cleaning up folder pcpg\n",
      "cleaning up folder prad\n",
      "cleaning up folder read\n",
      "cleaning up folder Sample Images\n",
      "cleaning up folder sarc\n",
      "cleaning up folder skcm\n",
      "cleaning up folder stad\n",
      "cleaning up folder tgct\n",
      "cleaning up folder thca\n",
      "cleaning up folder thym\n",
      "cleaning up folder ucec\n",
      "cleaning up folder ucs\n",
      "cleaning up folder uvm\n"
     ]
    }
   ],
   "source": [
    "#First, for every cohort (main folder) do the following\n",
    "#  1. Get list of items and subfolders\n",
    "#  2. Map folder name to folder ID\n",
    "#  3. Delete any item with filename starting with .TCGA\n",
    "#  4. Create a folder for each patient, of the folder does not exist\n",
    "folders = recurseGetResource(gc, collectionId, 'folder', 'collection')\n",
    "\n",
    "for folder in folders:\n",
    "    print \"cleaning up folder \" + folder[\"name\"]\n",
    "    folderId = folder[\"_id\"]\n",
    "    items = gc.listItem(folderId)\n",
    "    subFolders = recurseGetResource(gc, folderId, 'folder', 'folder')\n",
    "    #folderName2Id.update({subFolder[\"name\"]:subFolder[\"_id\"] for subFolder in subFolders})\n",
    "    #[gc.delete(\"item/\" + item[\"_id\"]) for item in items if item[\"name\"].startswith('.TCGA')]\n",
    "    \n",
    "    for item in items:\n",
    "        name = item[\"name\"]\n",
    "       \n",
    "        if name.startswith('TCGA-'):\n",
    "            patientFolderName = name[0:12]\n",
    "            slideFolderName = name.split(\".\",1)[0]\n",
    "            \n",
    "            try:\n",
    "                patientFolder = gc.createFolder(folderId, patientFolderName, parentType='folder')\n",
    "            except:\n",
    "                requestUrl = 'resource/search?q=%s&mode=prefix&types=%%5B%%22folder%%22%%5D&level=0&limit=10&offset=0' % patientFolderName\n",
    "                patientFolder = gc.getResource(requestUrl)[\"folder\"][0]\n",
    "                pass\n",
    "            \n",
    "            try:\n",
    "                gc.createFolder(patientFolder[\"_id\"], slideFolderName)\n",
    "                print \"Creating slide folder \" + folderName\n",
    "            except:\n",
    "                pass"
   ]
  },
  {
   "cell_type": "code",
   "execution_count": null,
   "metadata": {
    "collapsed": true
   },
   "outputs": [],
   "source": []
  }
 ],
 "metadata": {
  "kernelspec": {
   "display_name": "Python 2",
   "language": "python",
   "name": "python2"
  },
  "language_info": {
   "codemirror_mode": {
    "name": "ipython",
    "version": 2
   },
   "file_extension": ".py",
   "mimetype": "text/x-python",
   "name": "python",
   "nbconvert_exporter": "python",
   "pygments_lexer": "ipython2",
   "version": "2.7.12"
  }
 },
 "nbformat": 4,
 "nbformat_minor": 0
}
