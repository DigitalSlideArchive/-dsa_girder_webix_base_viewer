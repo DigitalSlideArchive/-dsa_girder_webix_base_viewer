{
 "cells": [
  {
   "cell_type": "markdown",
   "metadata": {},
   "source": [
    "# This script will attempt to reorganize the data I loaded into Girder in batch mode for the candygram test site\n"
   ]
  },
  {
   "cell_type": "code",
   "execution_count": null,
   "metadata": {
    "collapsed": true
   },
   "outputs": [],
   "source": [
    "### WARNING: before running this script make sure you created the proper TCGA folder structure\n",
    "### See the notebook: createFolderStructure\n",
    "### TCGA folder structure should be as follows:\n",
    "###   collection -> cohorts -> cases (patient folders) -> slide folders\n",
    "### This script will move slides from the main cohort folders into their corresponding slide folders\n",
    "### leaving the cohort folders without any items (images)  "
   ]
  },
  {
   "cell_type": "code",
   "execution_count": 1,
   "metadata": {
    "collapsed": true
   },
   "outputs": [],
   "source": [
    "#URL to the API\n",
    "BASE_URL = 'http://digitalslidearchive.emory.edu:8080/api/v1'\n",
    "COLLECTION_NAME = 'TCGA'"
   ]
  },
  {
   "cell_type": "code",
   "execution_count": 2,
   "metadata": {},
   "outputs": [],
   "source": [
    "import json,sys\n",
    "import girder_client\n",
    "import collections\n",
    "sys.path.append(\"../utils\")\n",
    "import girder_utils as gu"
   ]
  },
  {
   "cell_type": "code",
   "execution_count": 3,
   "metadata": {},
   "outputs": [
    {
     "name": "stdout",
     "output_type": "stream",
     "text": [
      "Login or email: admin\n",
      "Password for admin: ········\n"
     ]
    }
   ],
   "source": [
    "gc = girder_client.GirderClient(apiUrl=BASE_URL)\n",
    "gc.authenticate(interactive=True)"
   ]
  },
  {
   "cell_type": "code",
   "execution_count": 5,
   "metadata": {
    "collapsed": true
   },
   "outputs": [],
   "source": [
    "##Going to get my collection by ID so I can interact with it\n",
    "requestUrl = 'resource/lookup?path=collection/%s' % COLLECTION_NAME\n",
    "collectionData = gc.getResource(requestUrl)\n",
    "collectionId = collectionData['_id']"
   ]
  },
  {
   "cell_type": "code",
   "execution_count": 13,
   "metadata": {},
   "outputs": [
    {
     "name": "stdout",
     "output_type": "stream",
     "text": [
      "Moving items to slide folders...\n",
      "Working on acc\n",
      "Working on blca\n",
      "Working on brca\n",
      "Working on cesc\n",
      "Working on chol\n",
      "Working on coad\n",
      "Working on dlbc\n",
      "Working on esca\n",
      "Working on gbm\n",
      "Working on hnsc\n",
      "Working on kich\n",
      "Working on kirc\n",
      "Working on kirp\n",
      "Working on lgg\n",
      "Working on lihc\n",
      "Working on luad\n",
      "Working on lusc\n",
      "Working on meso\n",
      "Working on ov\n",
      "Working on paad\n",
      "Working on pcpg\n",
      "Working on prad\n",
      "Working on read\n",
      "Working on sarc\n",
      "Working on skcm\n",
      "Working on stad\n",
      "Working on tgct\n",
      "Working on thca\n",
      "Working on thym\n",
      "Working on ucec\n",
      "Working on ucs\n",
      "Working on uvm\n",
      "Done\n"
     ]
    }
   ],
   "source": [
    "reload(gu)\n",
    "#Second, for each cohort (main folder) loop through the items\\n\",\n",
    "#Then move the item to its corresponding patient folder\\n\",\n",
    "#Use folderName2Id to map patient ID to folder ID\\n\",\n",
    "folders = gu.recurseGetResource(gc, collectionId, 'folder', 'collection')\n",
    "print \"Moving items to slide folders...\"\n",
    "\n",
    "for folder in folders:\n",
    "    print \"Working on \" + folder[\"name\"]\n",
    "    offset = -1\n",
    "    \n",
    "    while True:\n",
    "        items = list(gc.listItem(folder[\"_id\"], limit=500, offset=offset + 1))\n",
    "        for item in items:\n",
    "            folderName = item[\"name\"].split(\".\",1)[0]\n",
    "            requestUrl = 'resource/search?q=%s&mode=prefix&types=%%5B%%22folder%%22%%5D&level=0&limit=10&offset=0' % folderName\n",
    "            results = gc.getResource(requestUrl)[\"folder\"]\n",
    "           \n",
    "            if len(results):\n",
    "                folderId = results[0]['_id']\n",
    "                try:\n",
    "                    gc.put(\"item/\" + item[\"_id\"], {\"folderId\": folderId})\n",
    "                except:\n",
    "                    print \"failed \" + folderName\n",
    "                    pass\n",
    "            \n",
    "        if len(items) < 500: break\n",
    "        offset += 500\n",
    "        \n",
    "print \"Done\"\n"
   ]
  },
  {
   "cell_type": "code",
   "execution_count": 7,
   "metadata": {
    "collapsed": true
   },
   "outputs": [],
   "source": [
    "gu."
   ]
  }
 ],
 "metadata": {
  "kernelspec": {
   "display_name": "Python 2",
   "language": "python",
   "name": "python2"
  },
  "language_info": {
   "codemirror_mode": {
    "name": "ipython",
    "version": 2
   },
   "file_extension": ".py",
   "mimetype": "text/x-python",
   "name": "python",
   "nbconvert_exporter": "python",
   "pygments_lexer": "ipython2",
   "version": "2.7.13"
  }
 },
 "nbformat": 4,
 "nbformat_minor": 2
}
