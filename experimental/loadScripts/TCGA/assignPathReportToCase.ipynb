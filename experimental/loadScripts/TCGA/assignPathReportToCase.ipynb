{
 "cells": [
  {
   "cell_type": "code",
   "execution_count": 1,
   "metadata": {
    "collapsed": false
   },
   "outputs": [],
   "source": [
    "import json\n",
    "import girder_client\n",
    "import collections\n",
    "from utils import *\n",
    "\n",
    "BASE_URL = 'http://candygram.neurology.emory.edu:8080/api/v1'\n",
    "PATH_FOLDER_ID = '588fa8d692ca9a000b4717bb'"
   ]
  },
  {
   "cell_type": "code",
   "execution_count": 2,
   "metadata": {
    "collapsed": false
   },
   "outputs": [
    {
     "name": "stdout",
     "output_type": "stream",
     "text": [
      "Login or email: admin\n",
      "Password for admin: ········\n"
     ]
    }
   ],
   "source": [
    "gc = girder_client.GirderClient(apiUrl=BASE_URL)\n",
    "gc.authenticate(interactive=True)"
   ]
  },
  {
   "cell_type": "code",
   "execution_count": null,
   "metadata": {
    "collapsed": false
   },
   "outputs": [],
   "source": [
    "#Second, for each cohort (main folder) loop through the items\n",
    "#Then move the item to its corresponding patient folder\n",
    "#Use folderName2Id to map patient ID to folder ID\n",
    "folders = recurseGetResource(gc, PATH_FOLDER_ID, 'folder', 'folder')\n",
    "\n",
    "for folder in folders:\n",
    "    items = recurseGetItems(gc, folder[\"_id\"])\n",
    "   \n",
    "    for item in items:\n",
    "        params = {\"id\": item[\"_id\"], \"recursive\": True}\n",
    "        \n",
    "        try:\n",
    "            resp = gc.post(\"/tcga/pathology\", parameters=params)\n",
    "            print resp[\"tcga\"][\"case\"]\n",
    "        except:\n",
    "            pass"
   ]
  },
  {
   "cell_type": "code",
   "execution_count": null,
   "metadata": {
    "collapsed": true
   },
   "outputs": [],
   "source": []
  }
 ],
 "metadata": {
  "kernelspec": {
   "display_name": "Python 2",
   "language": "python",
   "name": "python2"
  },
  "language_info": {
   "codemirror_mode": {
    "name": "ipython",
    "version": 2
   },
   "file_extension": ".py",
   "mimetype": "text/x-python",
   "name": "python",
   "nbconvert_exporter": "python",
   "pygments_lexer": "ipython2",
   "version": "2.7.12"
  }
 },
 "nbformat": 4,
 "nbformat_minor": 0
}
