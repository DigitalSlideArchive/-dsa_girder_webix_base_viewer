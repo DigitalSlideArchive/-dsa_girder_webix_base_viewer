{
 "cells": [
  {
   "cell_type": "code",
   "execution_count": 1,
   "metadata": {
    "collapsed": true
   },
   "outputs": [],
   "source": [
    "import girder_client\n",
    "import os,sys, glob\n",
    "import DSAHelperFunctions as DSA"
   ]
  },
  {
   "cell_type": "code",
   "execution_count": 2,
   "metadata": {},
   "outputs": [
    {
     "name": "stdout",
     "output_type": "stream",
     "text": [
      "Login or email: admin\n",
      "Password for admin: ········\n"
     ]
    }
   ],
   "source": [
    "## Connecting to computablebrain and going to create a DICOM tag on each directory if it doesnt' already have one\n",
    "## That way it will natively embed and display DICOM related metadata\n",
    "CIDC_ApiURL = \"http://34.73.194.243:8080/api/v1\"\n",
    "\n",
    "gc = girder_client.GirderClient(apiUrl=CIDC_ApiURL)\n",
    "gc.authenticate(interactive=True)"
   ]
  },
  {
   "cell_type": "code",
   "execution_count": 3,
   "metadata": {
    "collapsed": true
   },
   "outputs": [],
   "source": [
    "RootDICOM_FolderID  = '5c44e3c2e62914042558ccd7'"
   ]
  },
  {
   "cell_type": "code",
   "execution_count": null,
   "metadata": {},
   "outputs": [
    {
     "name": "stdout",
     "output_type": "stream",
     "text": [
      "\u001b[KProcessing subject TCGA-PRAD; subjects processed: 17; DICOM folders scanned 3676; just converted: 20 "
     ]
    }
   ],
   "source": [
    "subjsProcessed = 0\n",
    "foldersProcessed = 0\n",
    "justConverted = 0\n",
    "\n",
    "for fldr in gc.listFolder(RootDICOM_FolderID):\n",
    "    ## PatientID in this case follows ATX-001 which is the studyName\n",
    "    subjsProcessed +=1\n",
    "    ## Now list the items in each subject directory and see if they have the DICOM tag associated with them\n",
    "    ###now list all subfolders...\n",
    "    subFolders = gc.get(\"/resource/%s/items?type=folder&limit=250&sort=_id&sortdir=1\"%fldr['_id'])\n",
    "    for sf in subFolders:\n",
    "        if 'dicom' not in sf.keys():\n",
    "            gc.post('/item/%s/parseDicom' % sf['_id'])\n",
    "            justConverted+=1\n",
    "        foldersProcessed+=1\n",
    "        DSA.LinePrinter(\"Processing subject %s; subjects processed: %d; DICOM folders scanned %d; just converted: %d \" % (fldr['name'], subjsProcessed, foldersProcessed,justConverted))"
   ]
  }
 ],
 "metadata": {
  "kernelspec": {
   "display_name": "Python 2",
   "language": "python",
   "name": "python2"
  },
  "language_info": {
   "codemirror_mode": {
    "name": "ipython",
    "version": 2
   },
   "file_extension": ".py",
   "mimetype": "text/x-python",
   "name": "python",
   "nbconvert_exporter": "python",
   "pygments_lexer": "ipython2",
   "version": "2.7.13"
  }
 },
 "nbformat": 4,
 "nbformat_minor": 2
}
