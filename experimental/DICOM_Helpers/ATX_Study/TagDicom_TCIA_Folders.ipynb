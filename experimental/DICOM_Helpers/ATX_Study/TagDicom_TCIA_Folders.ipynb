{
 "cells": [
  {
   "cell_type": "code",
   "execution_count": 1,
   "metadata": {},
   "outputs": [],
   "source": [
    "import girder_client\n",
    "import os,sys, glob\n",
    "import DSAHelperFunctions as DSA"
   ]
  },
  {
   "cell_type": "code",
   "execution_count": null,
   "metadata": {},
   "outputs": [],
   "source": []
  },
  {
   "cell_type": "code",
   "execution_count": 2,
   "metadata": {},
   "outputs": [
    {
     "name": "stdout",
     "output_type": "stream",
     "text": [
      "Login or email: admin\n",
      "Password for admin: ········\n"
     ]
    }
   ],
   "source": [
    "### Connecting tocomputablebrain and going to create a DICOM tag on each directory if it doesnt' already have one\n",
    "## That way it will natively embed and display DICOM related metadata\n",
    "#CIDC_ApiURL = \"http://54.82.196.20:8080/api/v1\"\n",
    "\n",
    "DSA_ApiURL = \"http://api.digitalslidearchive.org/api/v1\"\n",
    "\n",
    "gc = girder_client.GirderClient(apiUrl=DSA_ApiURL)\n",
    "gc.authenticate(interactive=True)"
   ]
  },
  {
   "cell_type": "code",
   "execution_count": 24,
   "metadata": {},
   "outputs": [],
   "source": [
    "RootDICOM_FolderID  = '5c59d90fe62914007d04ff70'\n",
    "\n"
   ]
  },
  {
   "cell_type": "code",
   "execution_count": 31,
   "metadata": {},
   "outputs": [
    {
     "name": "stdout",
     "output_type": "stream",
     "text": [
      "REMBRANDT\n",
      "900-00-1961\n",
      "1.3.6.1.4.1.9328.50.50.104933136785683001540971027577769476599.zip {'_id': '5c59d91ce62914007d04ff74', 'baseParentId': '5ba3f3fee62914002d48bda6', 'baseParentType': 'collection', 'created': '2019-02-05T18:42:36.450000+00:00', 'creatorId': '5b9ef8cbe62914002e3e7247', 'description': '', 'dicom': {'files': [{'_id': '5c59d91ce62914007d04ff75', 'archivePath': './8-247.dcm', 'dicom': {'InstanceNumber': 240, 'SeriesNumber': 8, 'SliceLocation': -100.0704}, 'name': '1.3.6.1.4.1.9328.50.50.104933136785683001540971027577769476599.zip'}, {'_id': '5c59d91ce62914007d04ff75', 'archivePath': './4-243.dcm', 'dicom': {'InstanceNumber': 241, 'SeriesNumber': 8, 'SliceLocation': -92.57045}, 'name': '1.3.6.1.4.1.9328.50.50.104933136785683001540971027577769476599.zip'}, {'_id': '5c59d91ce62914007d04ff75', 'archivePath': './14-253.dcm', 'dicom': {'InstanceNumber': 242, 'SeriesNumber': 8, 'SliceLocation': -85.07045}, 'name': '1.3.6.1.4.1.9328.50.50.104933136785683001540971027577769476599.zip'}, {'_id': '5c59d91ce62914007d04ff75', 'archivePath': './11-250.dcm', 'dicom': {'InstanceNumber': 243, 'SeriesNumber': 8, 'SliceLocation': -77.57045}, 'name': '1.3.6.1.4.1.9328.50.50.104933136785683001540971027577769476599.zip'}, {'_id': '5c59d91ce62914007d04ff75', 'archivePath': './1-240.dcm', 'dicom': {'InstanceNumber': 244, 'SeriesNumber': 8, 'SliceLocation': -70.07045}, 'name': '1.3.6.1.4.1.9328.50.50.104933136785683001540971027577769476599.zip'}, {'_id': '5c59d91ce62914007d04ff75', 'archivePath': './2-241.dcm', 'dicom': {'InstanceNumber': 245, 'SeriesNumber': 8, 'SliceLocation': -62.57045}, 'name': '1.3.6.1.4.1.9328.50.50.104933136785683001540971027577769476599.zip'}, {'_id': '5c59d91ce62914007d04ff75', 'archivePath': './19-258.dcm', 'dicom': {'InstanceNumber': 246, 'SeriesNumber': 8, 'SliceLocation': -55.07045}, 'name': '1.3.6.1.4.1.9328.50.50.104933136785683001540971027577769476599.zip'}, {'_id': '5c59d91ce62914007d04ff75', 'archivePath': './10-249.dcm', 'dicom': {'InstanceNumber': 247, 'SeriesNumber': 8, 'SliceLocation': -47.57045}, 'name': '1.3.6.1.4.1.9328.50.50.104933136785683001540971027577769476599.zip'}, {'_id': '5c59d91ce62914007d04ff75', 'archivePath': './5-244.dcm', 'dicom': {'InstanceNumber': 248, 'SeriesNumber': 8, 'SliceLocation': -40.07045}, 'name': '1.3.6.1.4.1.9328.50.50.104933136785683001540971027577769476599.zip'}, {'_id': '5c59d91ce62914007d04ff75', 'archivePath': './20-259.dcm', 'dicom': {'InstanceNumber': 249, 'SeriesNumber': 8, 'SliceLocation': -32.57045}, 'name': '1.3.6.1.4.1.9328.50.50.104933136785683001540971027577769476599.zip'}, {'_id': '5c59d91ce62914007d04ff75', 'archivePath': './3-242.dcm', 'dicom': {'InstanceNumber': 250, 'SeriesNumber': 8, 'SliceLocation': -25.07045}, 'name': '1.3.6.1.4.1.9328.50.50.104933136785683001540971027577769476599.zip'}, {'_id': '5c59d91ce62914007d04ff75', 'archivePath': './18-257.dcm', 'dicom': {'InstanceNumber': 251, 'SeriesNumber': 8, 'SliceLocation': -17.57045}, 'name': '1.3.6.1.4.1.9328.50.50.104933136785683001540971027577769476599.zip'}, {'_id': '5c59d91ce62914007d04ff75', 'archivePath': './9-248.dcm', 'dicom': {'InstanceNumber': 252, 'SeriesNumber': 8, 'SliceLocation': -10.07045}, 'name': '1.3.6.1.4.1.9328.50.50.104933136785683001540971027577769476599.zip'}, {'_id': '5c59d91ce62914007d04ff75', 'archivePath': './7-246.dcm', 'dicom': {'InstanceNumber': 253, 'SeriesNumber': 8, 'SliceLocation': -2.57045}, 'name': '1.3.6.1.4.1.9328.50.50.104933136785683001540971027577769476599.zip'}, {'_id': '5c59d91ce62914007d04ff75', 'archivePath': './13-252.dcm', 'dicom': {'InstanceNumber': 254, 'SeriesNumber': 8, 'SliceLocation': 4.92955}, 'name': '1.3.6.1.4.1.9328.50.50.104933136785683001540971027577769476599.zip'}, {'_id': '5c59d91ce62914007d04ff75', 'archivePath': './22-261.dcm', 'dicom': {'InstanceNumber': 255, 'SeriesNumber': 8, 'SliceLocation': 12.42955}, 'name': '1.3.6.1.4.1.9328.50.50.104933136785683001540971027577769476599.zip'}, {'_id': '5c59d91ce62914007d04ff75', 'archivePath': './12-251.dcm', 'dicom': {'InstanceNumber': 256, 'SeriesNumber': 8, 'SliceLocation': 19.92955}, 'name': '1.3.6.1.4.1.9328.50.50.104933136785683001540971027577769476599.zip'}, {'_id': '5c59d91ce62914007d04ff75', 'archivePath': './17-256.dcm', 'dicom': {'InstanceNumber': 257, 'SeriesNumber': 8, 'SliceLocation': 27.42955}, 'name': '1.3.6.1.4.1.9328.50.50.104933136785683001540971027577769476599.zip'}, {'_id': '5c59d91ce62914007d04ff75', 'archivePath': './15-254.dcm', 'dicom': {'InstanceNumber': 258, 'SeriesNumber': 8, 'SliceLocation': 34.92955}, 'name': '1.3.6.1.4.1.9328.50.50.104933136785683001540971027577769476599.zip'}, {'_id': '5c59d91ce62914007d04ff75', 'archivePath': './6-245.dcm', 'dicom': {'InstanceNumber': 259, 'SeriesNumber': 8, 'SliceLocation': 42.42955}, 'name': '1.3.6.1.4.1.9328.50.50.104933136785683001540971027577769476599.zip'}, {'_id': '5c59d91ce62914007d04ff75', 'archivePath': './16-255.dcm', 'dicom': {'InstanceNumber': 260, 'SeriesNumber': 8, 'SliceLocation': 49.92955}, 'name': '1.3.6.1.4.1.9328.50.50.104933136785683001540971027577769476599.zip'}, {'_id': '5c59d91ce62914007d04ff75', 'archivePath': './21-260.dcm', 'dicom': {'InstanceNumber': 261, 'SeriesNumber': 8, 'SliceLocation': 57.42955}, 'name': '1.3.6.1.4.1.9328.50.50.104933136785683001540971027577769476599.zip'}], 'meta': {'(0013, 0010)': 'CTP', '(0013, 1013)': '11883001', 'AccessionNumber': '1293190500624970', 'AcquisitionNumber': 1, 'AcquisitionsInSeries': 1.0, 'AngioFlag': 'N', 'BitsAllocated': 16, 'BitsStored': 12, 'BodyPartExamined': 'BRAIN', 'Columns': 256, 'ContentDate': '20050619', 'ContentTime': '', 'ContrastBolusAgent': '', 'DateOfLastCalibration': '20041121', 'EchoNumbers': 1, 'EchoTime': 12.0, 'EchoTrainLength': 1, 'FlipAngle': 90.0, 'FrameOfReferenceUID': '1.3.6.1.4.1.9328.50.50.81349815561929521878828798837913165716', 'HighBit': 11, 'ImageDimensions': 2, 'ImageFormat': 'RECT', 'ImageGeometryType': 'PLANAR', 'ImageLocation': 32736, 'ImageOrientation': [1.0, -0.0, -0.0, 0.0, -0.0, -1.0], 'ImageOrientationPatient': [1.0, -0.0, -0.0, 0.0, -0.0, -1.0], 'ImageType': ['ORIGINAL', 'PRIMARY', 'OTHER'], 'ImagedNucleus': '1H', 'ImagingFrequency': 63.61547, 'InPlanePhaseEncodingDirection': 'ROW', 'LongitudinalTemporalInformationModified': 'MODIFIED', 'MRAcquisitionType': '2D', 'MagneticFieldStrength': 1.493806, 'Manufacturer': '', 'MaskingImage': '', 'Modality': 'MR', 'NumberOfAverages': 2.0, 'PatientBirthDate': '19601105', 'PatientID': '900-00-1961', 'PatientIdentityRemoved': 'YES', 'PatientName': '253609', 'PatientPosition': 'HFS', 'PatientSex': '', 'PercentPhaseFieldOfView': 75.0, 'PercentSampling': 100.0, 'PhotometricInterpretation': 'MONOCHROME2', 'PixelRepresentation': 0, 'PixelSpacing': [0.8984375, 0.8984375], 'PositionReferenceIndicator': '', 'ReceiveCoilName': 'CP Head', 'ReferringPhysicianName': ' ', 'RepetitionTime': 484.0, 'Rows': 256, 'SAR': 0.0, 'SOPClassUID': '1.2.840.10008.5.1.4.1.1.4', 'SamplesPerPixel': 1, 'ScanOptions': '', 'ScanningSequence': 'RM', 'SequenceName': 'se1', 'SequenceVariant': 'OSP', 'SeriesInstanceUID': '1.3.6.1.4.1.9328.50.50.104933136785683001540971027577769476599', 'SeriesNumber': 8, 'SliceThickness': 5.0, 'SpacingBetweenSlices': 2.5, 'SpecificCharacterSet': 'ISO_IR 100', 'StudyDate': '20050619', 'StudyID': '', 'StudyInstanceUID': '1.3.6.1.4.1.9328.50.50.280864729192009404868139988081463104452', 'StudyTime': '', 'TimeOfLastCalibration': '195152.000000'}}, 'folderId': '5c59d91ce62914007d04ff73', 'lowerName': '1.3.6.1.4.1.9328.50.50.104933136785683001540971027577769476599.zip', 'name': '1.3.6.1.4.1.9328.50.50.104933136785683001540971027577769476599.zip', 'provenance': [{'created': '2019-02-05T18:42:36.450000+00:00', 'eventTime': '2019-02-05T18:42:36.450000+00:00', 'eventType': 'creation', 'eventUser': '5b9ef8cbe62914002e3e7247', 'version': 1}, {'eventTime': '2019-02-05T18:42:36.465000+00:00', 'eventType': 'fileAdded', 'eventUser': '5b9ef8cbe62914002e3e7247', 'file': [{'fileId': '5c59d91ce62914007d04ff75', 'new': {'assetstoreId': '5b9ef8dfe62914002e454c38', 'created': '2019-02-05T18:42:36.465000+00:00', 'creatorId': '5b9ef8cbe62914002e3e7247', 'exts': ['3', '6', '1', '4', '1', '9328', '50', '50', '104933136785683001540971027577769476599', 'zip'], 'imported': True, 'itemId': '5c59d91ce62914007d04ff74', 'mimeType': None, 'mtime': 1538013403.0, 'name': '1.3.6.1.4.1.9328.50.50.104933136785683001540971027577769476599.zip', 'path': '/opt/histomicstk/mounts/TCGA_DICOM/TCIA_Sync/GoogleCloudSync/REMBRANDT/900-00-1961/1.3.6.1.4.1.9328.50.50.104933136785683001540971027577769476599.zip', 'size': 1414131}}], 'version': 2}, {'eventTime': '2019-02-05T18:42:36.450000+00:00', 'eventType': 'update', 'eventUser': '5b9ef8cbe62914002e3e7247', 'new': {'dicom': {'files': [{'_id': '5c59d91ce62914007d04ff75', 'archivePath': './8-247.dcm', 'dicom': {'InstanceNumber': 240, 'SeriesNumber': 8, 'SliceLocation': -100.0704}, 'name': '1.3.6.1.4.1.9328.50.50.104933136785683001540971027577769476599.zip'}, {'_id': '5c59d91ce62914007d04ff75', 'archivePath': './4-243.dcm', 'dicom': {'InstanceNumber': 241, 'SeriesNumber': 8, 'SliceLocation': -92.57045}, 'name': '1.3.6.1.4.1.9328.50.50.104933136785683001540971027577769476599.zip'}, {'_id': '5c59d91ce62914007d04ff75', 'archivePath': './14-253.dcm', 'dicom': {'InstanceNumber': 242, 'SeriesNumber': 8, 'SliceLocation': -85.07045}, 'name': '1.3.6.1.4.1.9328.50.50.104933136785683001540971027577769476599.zip'}, {'_id': '5c59d91ce62914007d04ff75', 'archivePath': './11-250.dcm', 'dicom': {'InstanceNumber': 243, 'SeriesNumber': 8, 'SliceLocation': -77.57045}, 'name': '1.3.6.1.4.1.9328.50.50.104933136785683001540971027577769476599.zip'}, {'_id': '5c59d91ce62914007d04ff75', 'archivePath': './1-240.dcm', 'dicom': {'InstanceNumber': 244, 'SeriesNumber': 8, 'SliceLocation': -70.07045}, 'name': '1.3.6.1.4.1.9328.50.50.104933136785683001540971027577769476599.zip'}, {'_id': '5c59d91ce62914007d04ff75', 'archivePath': './2-241.dcm', 'dicom': {'InstanceNumber': 245, 'SeriesNumber': 8, 'SliceLocation': -62.57045}, 'name': '1.3.6.1.4.1.9328.50.50.104933136785683001540971027577769476599.zip'}, {'_id': '5c59d91ce62914007d04ff75', 'archivePath': './19-258.dcm', 'dicom': {'InstanceNumber': 246, 'SeriesNumber': 8, 'SliceLocation': -55.07045}, 'name': '1.3.6.1.4.1.9328.50.50.104933136785683001540971027577769476599.zip'}, {'_id': '5c59d91ce62914007d04ff75', 'archivePath': './10-249.dcm', 'dicom': {'InstanceNumber': 247, 'SeriesNumber': 8, 'SliceLocation': -47.57045}, 'name': '1.3.6.1.4.1.9328.50.50.104933136785683001540971027577769476599.zip'}, {'_id': '5c59d91ce62914007d04ff75', 'archivePath': './5-244.dcm', 'dicom': {'InstanceNumber': 248, 'SeriesNumber': 8, 'SliceLocation': -40.07045}, 'name': '1.3.6.1.4.1.9328.50.50.104933136785683001540971027577769476599.zip'}, {'_id': '5c59d91ce62914007d04ff75', 'archivePath': './20-259.dcm', 'dicom': {'InstanceNumber': 249, 'SeriesNumber': 8, 'SliceLocation': -32.57045}, 'name': '1.3.6.1.4.1.9328.50.50.104933136785683001540971027577769476599.zip'}, {'_id': '5c59d91ce62914007d04ff75', 'archivePath': './3-242.dcm', 'dicom': {'InstanceNumber': 250, 'SeriesNumber': 8, 'SliceLocation': -25.07045}, 'name': '1.3.6.1.4.1.9328.50.50.104933136785683001540971027577769476599.zip'}, {'_id': '5c59d91ce62914007d04ff75', 'archivePath': './18-257.dcm', 'dicom': {'InstanceNumber': 251, 'SeriesNumber': 8, 'SliceLocation': -17.57045}, 'name': '1.3.6.1.4.1.9328.50.50.104933136785683001540971027577769476599.zip'}, {'_id': '5c59d91ce62914007d04ff75', 'archivePath': './9-248.dcm', 'dicom': {'InstanceNumber': 252, 'SeriesNumber': 8, 'SliceLocation': -10.07045}, 'name': '1.3.6.1.4.1.9328.50.50.104933136785683001540971027577769476599.zip'}, {'_id': '5c59d91ce62914007d04ff75', 'archivePath': './7-246.dcm', 'dicom': {'InstanceNumber': 253, 'SeriesNumber': 8, 'SliceLocation': -2.57045}, 'name': '1.3.6.1.4.1.9328.50.50.104933136785683001540971027577769476599.zip'}, {'_id': '5c59d91ce62914007d04ff75', 'archivePath': './13-252.dcm', 'dicom': {'InstanceNumber': 254, 'SeriesNumber': 8, 'SliceLocation': 4.92955}, 'name': '1.3.6.1.4.1.9328.50.50.104933136785683001540971027577769476599.zip'}, {'_id': '5c59d91ce62914007d04ff75', 'archivePath': './22-261.dcm', 'dicom': {'InstanceNumber': 255, 'SeriesNumber': 8, 'SliceLocation': 12.42955}, 'name': '1.3.6.1.4.1.9328.50.50.104933136785683001540971027577769476599.zip'}, {'_id': '5c59d91ce62914007d04ff75', 'archivePath': './12-251.dcm', 'dicom': {'InstanceNumber': 256, 'SeriesNumber': 8, 'SliceLocation': 19.92955}, 'name': '1.3.6.1.4.1.9328.50.50.104933136785683001540971027577769476599.zip'}, {'_id': '5c59d91ce62914007d04ff75', 'archivePath': './17-256.dcm', 'dicom': {'InstanceNumber': 257, 'SeriesNumber': 8, 'SliceLocation': 27.42955}, 'name': '1.3.6.1.4.1.9328.50.50.104933136785683001540971027577769476599.zip'}, {'_id': '5c59d91ce62914007d04ff75', 'archivePath': './15-254.dcm', 'dicom': {'InstanceNumber': 258, 'SeriesNumber': 8, 'SliceLocation': 34.92955}, 'name': '1.3.6.1.4.1.9328.50.50.104933136785683001540971027577769476599.zip'}, {'_id': '5c59d91ce62914007d04ff75', 'archivePath': './6-245.dcm', 'dicom': {'InstanceNumber': 259, 'SeriesNumber': 8, 'SliceLocation': 42.42955}, 'name': '1.3.6.1.4.1.9328.50.50.104933136785683001540971027577769476599.zip'}, {'_id': '5c59d91ce62914007d04ff75', 'archivePath': './16-255.dcm', 'dicom': {'InstanceNumber': 260, 'SeriesNumber': 8, 'SliceLocation': 49.92955}, 'name': '1.3.6.1.4.1.9328.50.50.104933136785683001540971027577769476599.zip'}, {'_id': '5c59d91ce62914007d04ff75', 'archivePath': './21-260.dcm', 'dicom': {'InstanceNumber': 261, 'SeriesNumber': 8, 'SliceLocation': 57.42955}, 'name': '1.3.6.1.4.1.9328.50.50.104933136785683001540971027577769476599.zip'}], 'meta': {'(0013, 0010)': 'CTP', '(0013, 1013)': '11883001', 'AccessionNumber': '1293190500624970', 'AcquisitionNumber': 1, 'AcquisitionsInSeries': 1.0, 'AngioFlag': 'N', 'BitsAllocated': 16, 'BitsStored': 12, 'BodyPartExamined': 'BRAIN', 'Columns': 256, 'ContentDate': '20050619', 'ContentTime': '', 'ContrastBolusAgent': '', 'DateOfLastCalibration': '20041121', 'EchoNumbers': 1, 'EchoTime': 12.0, 'EchoTrainLength': 1, 'FlipAngle': 90.0, 'FrameOfReferenceUID': '1.3.6.1.4.1.9328.50.50.81349815561929521878828798837913165716', 'HighBit': 11, 'ImageDimensions': 2, 'ImageFormat': 'RECT', 'ImageGeometryType': 'PLANAR', 'ImageLocation': 32736, 'ImageOrientation': [1.0, -0.0, -0.0, 0.0, -0.0, -1.0], 'ImageOrientationPatient': [1.0, -0.0, -0.0, 0.0, -0.0, -1.0], 'ImageType': ['ORIGINAL', 'PRIMARY', 'OTHER'], 'ImagedNucleus': '1H', 'ImagingFrequency': 63.61547, 'InPlanePhaseEncodingDirection': 'ROW', 'LongitudinalTemporalInformationModified': 'MODIFIED', 'MRAcquisitionType': '2D', 'MagneticFieldStrength': 1.493806, 'Manufacturer': '', 'MaskingImage': '', 'Modality': 'MR', 'NumberOfAverages': 2.0, 'PatientBirthDate': '19601105', 'PatientID': '900-00-1961', 'PatientIdentityRemoved': 'YES', 'PatientName': '253609', 'PatientPosition': 'HFS', 'PatientSex': '', 'PercentPhaseFieldOfView': 75.0, 'PercentSampling': 100.0, 'PhotometricInterpretation': 'MONOCHROME2', 'PixelRepresentation': 0, 'PixelSpacing': [0.8984375, 0.8984375], 'PositionReferenceIndicator': '', 'ReceiveCoilName': 'CP Head', 'ReferringPhysicianName': ' ', 'RepetitionTime': 484.0, 'Rows': 256, 'SAR': 0.0, 'SOPClassUID': '1.2.840.10008.5.1.4.1.1.4', 'SamplesPerPixel': 1, 'ScanOptions': '', 'ScanningSequence': 'RM', 'SequenceName': 'se1', 'SequenceVariant': 'OSP', 'SeriesInstanceUID': '1.3.6.1.4.1.9328.50.50.104933136785683001540971027577769476599', 'SeriesNumber': 8, 'SliceThickness': 5.0, 'SpacingBetweenSlices': 2.5, 'SpecificCharacterSet': 'ISO_IR 100', 'StudyDate': '20050619', 'StudyID': '', 'StudyInstanceUID': '1.3.6.1.4.1.9328.50.50.280864729192009404868139988081463104452', 'StudyTime': '', 'TimeOfLastCalibration': '195152.000000'}}}, 'old': {}, 'version': 3}], 'size': 1414131, 'updated': '2019-02-05T18:42:36.450000+00:00'}\n",
      "1.3.6.1.4.1.9328.50.50.13177376384483705864578017054057985223.zip {'_id': '5c59d91ce62914007d04ff76', 'baseParentId': '5ba3f3fee62914002d48bda6', 'baseParentType': 'collection', 'created': '2019-02-05T18:42:36.482000+00:00', 'creatorId': '5b9ef8cbe62914002e3e7247', 'description': '', 'folderId': '5c59d91ce62914007d04ff73', 'lowerName': '1.3.6.1.4.1.9328.50.50.13177376384483705864578017054057985223.zip', 'name': '1.3.6.1.4.1.9328.50.50.13177376384483705864578017054057985223.zip', 'provenance': [{'created': '2019-02-05T18:42:36.482000+00:00', 'eventTime': '2019-02-05T18:42:36.482000+00:00', 'eventType': 'creation', 'eventUser': '5b9ef8cbe62914002e3e7247', 'version': 1}, {'eventTime': '2019-02-05T18:42:36.488000+00:00', 'eventType': 'fileAdded', 'eventUser': '5b9ef8cbe62914002e3e7247', 'file': [{'fileId': '5c59d91ce62914007d04ff77', 'new': {'assetstoreId': '5b9ef8dfe62914002e454c38', 'created': '2019-02-05T18:42:36.488000+00:00', 'creatorId': '5b9ef8cbe62914002e3e7247', 'exts': ['3', '6', '1', '4', '1', '9328', '50', '50', '13177376384483705864578017054057985223', 'zip'], 'imported': True, 'itemId': '5c59d91ce62914007d04ff76', 'mimeType': None, 'mtime': 1538013387.0, 'name': '1.3.6.1.4.1.9328.50.50.13177376384483705864578017054057985223.zip', 'path': '/opt/histomicstk/mounts/TCGA_DICOM/TCIA_Sync/GoogleCloudSync/REMBRANDT/900-00-1961/1.3.6.1.4.1.9328.50.50.13177376384483705864578017054057985223.zip', 'size': 4539559}}], 'version': 2}], 'size': 4539559, 'updated': '2019-02-05T18:42:36.482000+00:00'}\n"
     ]
    },
    {
     "ename": "HttpError",
     "evalue": "HTTP error 400: POST https://api.digitalslidearchive.org/api/v1/item/5c59d91ce62914007d04ff76/parseDicom\nResponse text: {\"message\": \"No matching route for \\\"GET 5c59d91ce62914007d04ff76/parseDicom\\\"\", \"type\": \"rest\"}",
     "output_type": "error",
     "traceback": [
      "\u001b[0;31m---------------------------------------------------------------------------\u001b[0m",
      "\u001b[0;31mHttpError\u001b[0m                                 Traceback (most recent call last)",
      "\u001b[0;32m<ipython-input-31-25d4ad8d0803>\u001b[0m in \u001b[0;36m<module>\u001b[0;34m\u001b[0m\n\u001b[1;32m     18\u001b[0m             \u001b[0mprint\u001b[0m\u001b[0;34m(\u001b[0m\u001b[0mpt\u001b[0m\u001b[0;34m[\u001b[0m\u001b[0;34m'name'\u001b[0m\u001b[0;34m]\u001b[0m\u001b[0;34m,\u001b[0m\u001b[0mpt\u001b[0m\u001b[0;34m)\u001b[0m\u001b[0;34m\u001b[0m\u001b[0;34m\u001b[0m\u001b[0m\n\u001b[1;32m     19\u001b[0m             \u001b[0;32mif\u001b[0m \u001b[0;34m'dicom'\u001b[0m \u001b[0;32mnot\u001b[0m \u001b[0;32min\u001b[0m \u001b[0mpt\u001b[0m\u001b[0;34m.\u001b[0m\u001b[0mkeys\u001b[0m\u001b[0;34m(\u001b[0m\u001b[0;34m)\u001b[0m\u001b[0;34m:\u001b[0m\u001b[0;34m\u001b[0m\u001b[0;34m\u001b[0m\u001b[0m\n\u001b[0;32m---> 20\u001b[0;31m                 \u001b[0mgc\u001b[0m\u001b[0;34m.\u001b[0m\u001b[0mpost\u001b[0m\u001b[0;34m(\u001b[0m\u001b[0;34m'item/%s/parseDicom'\u001b[0m \u001b[0;34m%\u001b[0m \u001b[0mpt\u001b[0m\u001b[0;34m[\u001b[0m\u001b[0;34m'_id'\u001b[0m\u001b[0;34m]\u001b[0m\u001b[0;34m)\u001b[0m\u001b[0;34m\u001b[0m\u001b[0;34m\u001b[0m\u001b[0m\n\u001b[0m\u001b[1;32m     21\u001b[0m                 \u001b[0mjustConverted\u001b[0m\u001b[0;34m+=\u001b[0m\u001b[0;36m1\u001b[0m\u001b[0;34m\u001b[0m\u001b[0;34m\u001b[0m\u001b[0m\n\u001b[1;32m     22\u001b[0m                 \u001b[0mprint\u001b[0m\u001b[0;34m(\u001b[0m\u001b[0mpt\u001b[0m\u001b[0;34m[\u001b[0m\u001b[0;34m'name'\u001b[0m\u001b[0;34m]\u001b[0m\u001b[0;34m)\u001b[0m\u001b[0;34m\u001b[0m\u001b[0;34m\u001b[0m\u001b[0m\n",
      "\u001b[0;32m~/anaconda3/envs/dsaOSD/lib/python3.7/site-packages/girder_client/__init__.py\u001b[0m in \u001b[0;36mpost\u001b[0;34m(self, path, parameters, files, data, json, headers, jsonResp)\u001b[0m\n\u001b[1;32m    509\u001b[0m         \"\"\"\n\u001b[1;32m    510\u001b[0m         return self.sendRestRequest('POST', path, parameters, files=files,\n\u001b[0;32m--> 511\u001b[0;31m                                     data=data, json=json, headers=headers, jsonResp=jsonResp)\n\u001b[0m\u001b[1;32m    512\u001b[0m \u001b[0;34m\u001b[0m\u001b[0m\n\u001b[1;32m    513\u001b[0m     \u001b[0;32mdef\u001b[0m \u001b[0mput\u001b[0m\u001b[0;34m(\u001b[0m\u001b[0mself\u001b[0m\u001b[0;34m,\u001b[0m \u001b[0mpath\u001b[0m\u001b[0;34m,\u001b[0m \u001b[0mparameters\u001b[0m\u001b[0;34m=\u001b[0m\u001b[0;32mNone\u001b[0m\u001b[0;34m,\u001b[0m \u001b[0mdata\u001b[0m\u001b[0;34m=\u001b[0m\u001b[0;32mNone\u001b[0m\u001b[0;34m,\u001b[0m \u001b[0mjson\u001b[0m\u001b[0;34m=\u001b[0m\u001b[0;32mNone\u001b[0m\u001b[0;34m,\u001b[0m \u001b[0mjsonResp\u001b[0m\u001b[0;34m=\u001b[0m\u001b[0;32mTrue\u001b[0m\u001b[0;34m)\u001b[0m\u001b[0;34m:\u001b[0m\u001b[0;34m\u001b[0m\u001b[0;34m\u001b[0m\u001b[0m\n",
      "\u001b[0;32m~/anaconda3/envs/dsaOSD/lib/python3.7/site-packages/girder_client/__init__.py\u001b[0m in \u001b[0;36msendRestRequest\u001b[0;34m(self, method, path, parameters, data, files, json, headers, jsonResp, **kwargs)\u001b[0m\n\u001b[1;32m    495\u001b[0m             raise HttpError(\n\u001b[1;32m    496\u001b[0m                 \u001b[0mstatus\u001b[0m\u001b[0;34m=\u001b[0m\u001b[0mresult\u001b[0m\u001b[0;34m.\u001b[0m\u001b[0mstatus_code\u001b[0m\u001b[0;34m,\u001b[0m \u001b[0murl\u001b[0m\u001b[0;34m=\u001b[0m\u001b[0mresult\u001b[0m\u001b[0;34m.\u001b[0m\u001b[0murl\u001b[0m\u001b[0;34m,\u001b[0m \u001b[0mmethod\u001b[0m\u001b[0;34m=\u001b[0m\u001b[0mmethod\u001b[0m\u001b[0;34m,\u001b[0m \u001b[0mtext\u001b[0m\u001b[0;34m=\u001b[0m\u001b[0mresult\u001b[0m\u001b[0;34m.\u001b[0m\u001b[0mtext\u001b[0m\u001b[0;34m,\u001b[0m\u001b[0;34m\u001b[0m\u001b[0;34m\u001b[0m\u001b[0m\n\u001b[0;32m--> 497\u001b[0;31m                 response=result)\n\u001b[0m\u001b[1;32m    498\u001b[0m \u001b[0;34m\u001b[0m\u001b[0m\n\u001b[1;32m    499\u001b[0m     \u001b[0;32mdef\u001b[0m \u001b[0mget\u001b[0m\u001b[0;34m(\u001b[0m\u001b[0mself\u001b[0m\u001b[0;34m,\u001b[0m \u001b[0mpath\u001b[0m\u001b[0;34m,\u001b[0m \u001b[0mparameters\u001b[0m\u001b[0;34m=\u001b[0m\u001b[0;32mNone\u001b[0m\u001b[0;34m,\u001b[0m \u001b[0mjsonResp\u001b[0m\u001b[0;34m=\u001b[0m\u001b[0;32mTrue\u001b[0m\u001b[0;34m)\u001b[0m\u001b[0;34m:\u001b[0m\u001b[0;34m\u001b[0m\u001b[0;34m\u001b[0m\u001b[0m\n",
      "\u001b[0;31mHttpError\u001b[0m: HTTP error 400: POST https://api.digitalslidearchive.org/api/v1/item/5c59d91ce62914007d04ff76/parseDicom\nResponse text: {\"message\": \"No matching route for \\\"GET 5c59d91ce62914007d04ff76/parseDicom\\\"\", \"type\": \"rest\"}"
     ]
    }
   ],
   "source": [
    "subjsProcessed = 0\n",
    "foldersProcessed = 0\n",
    "justConverted = 0\n",
    "\n",
    "for fldr in gc.listFolder(RootDICOM_FolderID):\n",
    "    ## PatientID in this case follows ATX-001 which is the studyName\n",
    "    subjsProcessed +=1\n",
    "    print(fldr['name'])\n",
    "    \n",
    "    ## Now list the items in each subject directory and see if they have the DICOM tag associated with them\n",
    "    ###now list all subfolders...\n",
    "    \n",
    "    \n",
    "    \n",
    "    for sf in gc.listFolder(fldr['_id']):\n",
    "        print (sf['name'])\n",
    "        for pt in gc.get(\"resource/%s/items?type=folder&limit=250&sort=_id&sortdir=1\" % sf['_id']):\n",
    "            print(pt['name'],pt)\n",
    "            if 'dicom' not in pt.keys():\n",
    "                gc.post('item/%s/parseDicom' % pt['_id'])\n",
    "                justConverted+=1\n",
    "                print(pt['name'])\n",
    "                #print(sf)\n",
    "\n",
    "        \n",
    "        \n",
    "        #     print(subFolders)\n",
    "#    sys.exit()\n",
    "#     for sf in subFolders:\n",
    "        \n",
    "        \n",
    "\n",
    "#         foldersProcessed+=1\n",
    "#     DSA.LinePrinter(\"Processing subject %s; subjects processed: %d; DICOM folders scanned %d; just converted: %d \" % (sf['name'], subjsProcessed, foldersProcessed,justConverted))"
   ]
  },
  {
   "cell_type": "code",
   "execution_count": 32,
   "metadata": {},
   "outputs": [
    {
     "ename": "HttpError",
     "evalue": "HTTP error 400: POST https://api.digitalslidearchive.org/api/v1/item/5c59d91ce62914007d04ffbe/parseDicom\nResponse text: {\"message\": \"No matching route for \\\"GET 5c59d91ce62914007d04ffbe/parseDicom\\\"\", \"type\": \"rest\"}",
     "output_type": "error",
     "traceback": [
      "\u001b[0;31m---------------------------------------------------------------------------\u001b[0m",
      "\u001b[0;31mHttpError\u001b[0m                                 Traceback (most recent call last)",
      "\u001b[0;32m<ipython-input-32-955419f9ed44>\u001b[0m in \u001b[0;36m<module>\u001b[0;34m\u001b[0m\n\u001b[0;32m----> 1\u001b[0;31m \u001b[0mgc\u001b[0m\u001b[0;34m.\u001b[0m\u001b[0mpost\u001b[0m\u001b[0;34m(\u001b[0m\u001b[0;34m\"item/5c59d91ce62914007d04ffbe/parseDicom\"\u001b[0m\u001b[0;34m)\u001b[0m\u001b[0;34m\u001b[0m\u001b[0;34m\u001b[0m\u001b[0m\n\u001b[0m",
      "\u001b[0;32m~/anaconda3/envs/dsaOSD/lib/python3.7/site-packages/girder_client/__init__.py\u001b[0m in \u001b[0;36mpost\u001b[0;34m(self, path, parameters, files, data, json, headers, jsonResp)\u001b[0m\n\u001b[1;32m    509\u001b[0m         \"\"\"\n\u001b[1;32m    510\u001b[0m         return self.sendRestRequest('POST', path, parameters, files=files,\n\u001b[0;32m--> 511\u001b[0;31m                                     data=data, json=json, headers=headers, jsonResp=jsonResp)\n\u001b[0m\u001b[1;32m    512\u001b[0m \u001b[0;34m\u001b[0m\u001b[0m\n\u001b[1;32m    513\u001b[0m     \u001b[0;32mdef\u001b[0m \u001b[0mput\u001b[0m\u001b[0;34m(\u001b[0m\u001b[0mself\u001b[0m\u001b[0;34m,\u001b[0m \u001b[0mpath\u001b[0m\u001b[0;34m,\u001b[0m \u001b[0mparameters\u001b[0m\u001b[0;34m=\u001b[0m\u001b[0;32mNone\u001b[0m\u001b[0;34m,\u001b[0m \u001b[0mdata\u001b[0m\u001b[0;34m=\u001b[0m\u001b[0;32mNone\u001b[0m\u001b[0;34m,\u001b[0m \u001b[0mjson\u001b[0m\u001b[0;34m=\u001b[0m\u001b[0;32mNone\u001b[0m\u001b[0;34m,\u001b[0m \u001b[0mjsonResp\u001b[0m\u001b[0;34m=\u001b[0m\u001b[0;32mTrue\u001b[0m\u001b[0;34m)\u001b[0m\u001b[0;34m:\u001b[0m\u001b[0;34m\u001b[0m\u001b[0;34m\u001b[0m\u001b[0m\n",
      "\u001b[0;32m~/anaconda3/envs/dsaOSD/lib/python3.7/site-packages/girder_client/__init__.py\u001b[0m in \u001b[0;36msendRestRequest\u001b[0;34m(self, method, path, parameters, data, files, json, headers, jsonResp, **kwargs)\u001b[0m\n\u001b[1;32m    495\u001b[0m             raise HttpError(\n\u001b[1;32m    496\u001b[0m                 \u001b[0mstatus\u001b[0m\u001b[0;34m=\u001b[0m\u001b[0mresult\u001b[0m\u001b[0;34m.\u001b[0m\u001b[0mstatus_code\u001b[0m\u001b[0;34m,\u001b[0m \u001b[0murl\u001b[0m\u001b[0;34m=\u001b[0m\u001b[0mresult\u001b[0m\u001b[0;34m.\u001b[0m\u001b[0murl\u001b[0m\u001b[0;34m,\u001b[0m \u001b[0mmethod\u001b[0m\u001b[0;34m=\u001b[0m\u001b[0mmethod\u001b[0m\u001b[0;34m,\u001b[0m \u001b[0mtext\u001b[0m\u001b[0;34m=\u001b[0m\u001b[0mresult\u001b[0m\u001b[0;34m.\u001b[0m\u001b[0mtext\u001b[0m\u001b[0;34m,\u001b[0m\u001b[0;34m\u001b[0m\u001b[0;34m\u001b[0m\u001b[0m\n\u001b[0;32m--> 497\u001b[0;31m                 response=result)\n\u001b[0m\u001b[1;32m    498\u001b[0m \u001b[0;34m\u001b[0m\u001b[0m\n\u001b[1;32m    499\u001b[0m     \u001b[0;32mdef\u001b[0m \u001b[0mget\u001b[0m\u001b[0;34m(\u001b[0m\u001b[0mself\u001b[0m\u001b[0;34m,\u001b[0m \u001b[0mpath\u001b[0m\u001b[0;34m,\u001b[0m \u001b[0mparameters\u001b[0m\u001b[0;34m=\u001b[0m\u001b[0;32mNone\u001b[0m\u001b[0;34m,\u001b[0m \u001b[0mjsonResp\u001b[0m\u001b[0;34m=\u001b[0m\u001b[0;32mTrue\u001b[0m\u001b[0;34m)\u001b[0m\u001b[0;34m:\u001b[0m\u001b[0;34m\u001b[0m\u001b[0;34m\u001b[0m\u001b[0m\n",
      "\u001b[0;31mHttpError\u001b[0m: HTTP error 400: POST https://api.digitalslidearchive.org/api/v1/item/5c59d91ce62914007d04ffbe/parseDicom\nResponse text: {\"message\": \"No matching route for \\\"GET 5c59d91ce62914007d04ffbe/parseDicom\\\"\", \"type\": \"rest\"}"
     ]
    }
   ],
   "source": [
    "gc.post(\"item/5c59d91ce62914007d04ffbe/parseDicom\")"
   ]
  }
 ],
 "metadata": {
  "kernelspec": {
   "display_name": "Python 3",
   "language": "python",
   "name": "python3"
  },
  "language_info": {
   "codemirror_mode": {
    "name": "ipython",
    "version": 3
   },
   "file_extension": ".py",
   "mimetype": "text/x-python",
   "name": "python",
   "nbconvert_exporter": "python",
   "pygments_lexer": "ipython3",
   "version": "3.7.2"
  }
 },
 "nbformat": 4,
 "nbformat_minor": 2
}
