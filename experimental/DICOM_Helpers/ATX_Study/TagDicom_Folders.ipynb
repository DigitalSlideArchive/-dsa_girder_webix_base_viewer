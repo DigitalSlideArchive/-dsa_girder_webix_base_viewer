{
 "cells": [
  {
   "cell_type": "code",
   "execution_count": 2,
   "metadata": {},
   "outputs": [],
   "source": [
    "import girder_client\n",
    "import os,sys, glob\n",
    "#sys.path.append(\"../../helperLibs\")  \n",
    "import DSAHelperFunctions as DSA"
   ]
  },
  {
   "cell_type": "code",
   "execution_count": 4,
   "metadata": {},
   "outputs": [
    {
     "name": "stdout",
     "output_type": "stream",
     "text": [
      "Login or email: admin\n",
      "Password for admin: ········\n"
     ]
    }
   ],
   "source": [
    "## Connecting to computablebrain and going to create a DICOM tag on each directory if it doesnt' already have one\n",
    "## That way it will natively embed and display DICOM related metadata\n",
    "CB_ApiURL = \"https://api.digitalslidearchive.org/api/v1\"\n",
    "\n",
    "gc = girder_client.GirderClient(apiUrl=CB_ApiURL)\n",
    "gc.authenticate(interactive=True)"
   ]
  },
  {
   "cell_type": "code",
   "execution_count": 5,
   "metadata": {
    "collapsed": true
   },
   "outputs": [],
   "source": [
    "RootDICOM_FolderID  = '5c44e3c2e62914042558ccd7'"
   ]
  },
  {
   "cell_type": "code",
   "execution_count": 6,
   "metadata": {},
   "outputs": [
    {
     "ename": "HttpError",
     "evalue": "HTTP error 400: GET https://api.digitalslidearchive.org/api/v1/folder?parentType=folder&offset=0&limit=50&parentId=5c44e3c2e62914042558ccd7\nResponse text: {\"field\": \"id\", \"message\": \"No such folder: 5c44e3c2e62914042558ccd7\", \"type\": \"validation\"}",
     "output_type": "error",
     "traceback": [
      "\u001b[0;31m---------------------------------------------------------------------------\u001b[0m",
      "\u001b[0;31mHttpError\u001b[0m                                 Traceback (most recent call last)",
      "\u001b[0;32m<ipython-input-6-d07ca73c9e03>\u001b[0m in \u001b[0;36m<module>\u001b[0;34m()\u001b[0m\n\u001b[1;32m      3\u001b[0m \u001b[0mjustConverted\u001b[0m \u001b[0;34m=\u001b[0m \u001b[0;36m0\u001b[0m\u001b[0;34m\u001b[0m\u001b[0m\n\u001b[1;32m      4\u001b[0m \u001b[0;34m\u001b[0m\u001b[0m\n\u001b[0;32m----> 5\u001b[0;31m \u001b[0;32mfor\u001b[0m \u001b[0mfldr\u001b[0m \u001b[0;32min\u001b[0m \u001b[0mgc\u001b[0m\u001b[0;34m.\u001b[0m\u001b[0mlistFolder\u001b[0m\u001b[0;34m(\u001b[0m\u001b[0mRootDICOM_FolderID\u001b[0m\u001b[0;34m)\u001b[0m\u001b[0;34m:\u001b[0m\u001b[0;34m\u001b[0m\u001b[0m\n\u001b[0m\u001b[1;32m      6\u001b[0m     \u001b[0;31m## PatientID in this case follows ATX-001 which is the studyName\u001b[0m\u001b[0;34m\u001b[0m\u001b[0;34m\u001b[0m\u001b[0m\n\u001b[1;32m      7\u001b[0m     \u001b[0msubjsProcessed\u001b[0m \u001b[0;34m+=\u001b[0m\u001b[0;36m1\u001b[0m\u001b[0;34m\u001b[0m\u001b[0m\n",
      "\u001b[0;32m/home/dagutman/anaconda2/envs/mongoADRC/lib/python2.7/site-packages/girder_client/__init__.pyc\u001b[0m in \u001b[0;36mlistResource\u001b[0;34m(self, path, params, limit, offset)\u001b[0m\n\u001b[1;32m    576\u001b[0m \u001b[0;34m\u001b[0m\u001b[0m\n\u001b[1;32m    577\u001b[0m         \u001b[0;32mwhile\u001b[0m \u001b[0mTrue\u001b[0m\u001b[0;34m:\u001b[0m\u001b[0;34m\u001b[0m\u001b[0m\n\u001b[0;32m--> 578\u001b[0;31m             \u001b[0mrecords\u001b[0m \u001b[0;34m=\u001b[0m \u001b[0mself\u001b[0m\u001b[0;34m.\u001b[0m\u001b[0mget\u001b[0m\u001b[0;34m(\u001b[0m\u001b[0mpath\u001b[0m\u001b[0;34m,\u001b[0m \u001b[0mparams\u001b[0m\u001b[0;34m)\u001b[0m\u001b[0;34m\u001b[0m\u001b[0m\n\u001b[0m\u001b[1;32m    579\u001b[0m             \u001b[0;32mfor\u001b[0m \u001b[0mrecord\u001b[0m \u001b[0;32min\u001b[0m \u001b[0mrecords\u001b[0m\u001b[0;34m:\u001b[0m\u001b[0;34m\u001b[0m\u001b[0m\n\u001b[1;32m    580\u001b[0m                 \u001b[0;32myield\u001b[0m \u001b[0mrecord\u001b[0m\u001b[0;34m\u001b[0m\u001b[0m\n",
      "\u001b[0;32m/home/dagutman/anaconda2/envs/mongoADRC/lib/python2.7/site-packages/girder_client/__init__.pyc\u001b[0m in \u001b[0;36mget\u001b[0;34m(self, path, parameters, jsonResp)\u001b[0m\n\u001b[1;32m    501\u001b[0m         \u001b[0mConvenience\u001b[0m \u001b[0mmethod\u001b[0m \u001b[0mto\u001b[0m \u001b[0mcall\u001b[0m \u001b[0;34m:\u001b[0m\u001b[0mpy\u001b[0m\u001b[0;34m:\u001b[0m\u001b[0mfunc\u001b[0m\u001b[0;34m:\u001b[0m\u001b[0;34m`\u001b[0m\u001b[0msendRestRequest\u001b[0m\u001b[0;34m`\u001b[0m \u001b[0;32mwith\u001b[0m \u001b[0mthe\u001b[0m \u001b[0;34m'GET'\u001b[0m \u001b[0mHTTP\u001b[0m \u001b[0mmethod\u001b[0m\u001b[0;34m.\u001b[0m\u001b[0;34m\u001b[0m\u001b[0m\n\u001b[1;32m    502\u001b[0m         \"\"\"\n\u001b[0;32m--> 503\u001b[0;31m         \u001b[0;32mreturn\u001b[0m \u001b[0mself\u001b[0m\u001b[0;34m.\u001b[0m\u001b[0msendRestRequest\u001b[0m\u001b[0;34m(\u001b[0m\u001b[0;34m'GET'\u001b[0m\u001b[0;34m,\u001b[0m \u001b[0mpath\u001b[0m\u001b[0;34m,\u001b[0m \u001b[0mparameters\u001b[0m\u001b[0;34m,\u001b[0m \u001b[0mjsonResp\u001b[0m\u001b[0;34m=\u001b[0m\u001b[0mjsonResp\u001b[0m\u001b[0;34m)\u001b[0m\u001b[0;34m\u001b[0m\u001b[0m\n\u001b[0m\u001b[1;32m    504\u001b[0m \u001b[0;34m\u001b[0m\u001b[0m\n\u001b[1;32m    505\u001b[0m     def post(self, path, parameters=None, files=None, data=None, json=None, headers=None,\n",
      "\u001b[0;32m/home/dagutman/anaconda2/envs/mongoADRC/lib/python2.7/site-packages/girder_client/__init__.pyc\u001b[0m in \u001b[0;36msendRestRequest\u001b[0;34m(self, method, path, parameters, data, files, json, headers, jsonResp, **kwargs)\u001b[0m\n\u001b[1;32m    495\u001b[0m             raise HttpError(\n\u001b[1;32m    496\u001b[0m                 \u001b[0mstatus\u001b[0m\u001b[0;34m=\u001b[0m\u001b[0mresult\u001b[0m\u001b[0;34m.\u001b[0m\u001b[0mstatus_code\u001b[0m\u001b[0;34m,\u001b[0m \u001b[0murl\u001b[0m\u001b[0;34m=\u001b[0m\u001b[0mresult\u001b[0m\u001b[0;34m.\u001b[0m\u001b[0murl\u001b[0m\u001b[0;34m,\u001b[0m \u001b[0mmethod\u001b[0m\u001b[0;34m=\u001b[0m\u001b[0mmethod\u001b[0m\u001b[0;34m,\u001b[0m \u001b[0mtext\u001b[0m\u001b[0;34m=\u001b[0m\u001b[0mresult\u001b[0m\u001b[0;34m.\u001b[0m\u001b[0mtext\u001b[0m\u001b[0;34m,\u001b[0m\u001b[0;34m\u001b[0m\u001b[0m\n\u001b[0;32m--> 497\u001b[0;31m                 response=result)\n\u001b[0m\u001b[1;32m    498\u001b[0m \u001b[0;34m\u001b[0m\u001b[0m\n\u001b[1;32m    499\u001b[0m     \u001b[0;32mdef\u001b[0m \u001b[0mget\u001b[0m\u001b[0;34m(\u001b[0m\u001b[0mself\u001b[0m\u001b[0;34m,\u001b[0m \u001b[0mpath\u001b[0m\u001b[0;34m,\u001b[0m \u001b[0mparameters\u001b[0m\u001b[0;34m=\u001b[0m\u001b[0mNone\u001b[0m\u001b[0;34m,\u001b[0m \u001b[0mjsonResp\u001b[0m\u001b[0;34m=\u001b[0m\u001b[0mTrue\u001b[0m\u001b[0;34m)\u001b[0m\u001b[0;34m:\u001b[0m\u001b[0;34m\u001b[0m\u001b[0m\n",
      "\u001b[0;31mHttpError\u001b[0m: HTTP error 400: GET https://api.digitalslidearchive.org/api/v1/folder?parentType=folder&offset=0&limit=50&parentId=5c44e3c2e62914042558ccd7\nResponse text: {\"field\": \"id\", \"message\": \"No such folder: 5c44e3c2e62914042558ccd7\", \"type\": \"validation\"}"
     ]
    }
   ],
   "source": [
    "subjsProcessed = 0\n",
    "foldersProcessed = 0\n",
    "justConverted = 0\n",
    "\n",
    "for fldr in gc.listFolder(RootDICOM_FolderID):\n",
    "    ## PatientID in this case follows ATX-001 which is the studyName\n",
    "    subjsProcessed +=1\n",
    "    ## Now list the items in each subject directory and see if they have the DICOM tag associated with them\n",
    "    \n",
    " \n",
    "\n",
    "    ###now list all subfolders...\n",
    "    subFolders = gc.get(\"/resource/%s/items?type=folder&limit=50&sort=_id&sortdir=1\"%fldr['_id'])\n",
    "    for sf in subFolders:\n",
    "        if 'dicom' not in sf.keys():\n",
    "            gc.post('/item/%s/parseDicom' % sf['_id'])\n",
    "            justConverted+=1\n",
    "        foldersProcessed+=1\n",
    "        DSA.LinePrinter(\"Processing subject %s; subjects processed: %d; DICOM folders scanned %d; just converted: %d \" % (fldr['name'], subjsProcessed, foldersProcessed,justConverted))"
   ]
  }
 ],
 "metadata": {
  "kernelspec": {
   "display_name": "Python 2",
   "language": "python",
   "name": "python2"
  },
  "language_info": {
   "codemirror_mode": {
    "name": "ipython",
    "version": 2
   },
   "file_extension": ".py",
   "mimetype": "text/x-python",
   "name": "python",
   "nbconvert_exporter": "python",
   "pygments_lexer": "ipython2",
   "version": "2.7.13"
  }
 },
 "nbformat": 4,
 "nbformat_minor": 2
}
